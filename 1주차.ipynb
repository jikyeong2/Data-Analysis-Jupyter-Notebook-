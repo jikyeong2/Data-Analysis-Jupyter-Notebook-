{
 "cells": [
  {
   "cell_type": "markdown",
   "id": "2b1c1ee9",
   "metadata": {},
   "source": [
    "Raw Data -> 관찰 -> 특징/인사이트 탐색"
   ]
  },
  {
   "cell_type": "markdown",
   "id": "741b4164",
   "metadata": {},
   "source": [
    "피처의 속성 탐색\n",
    "- 학급 신체검사 결과 데이터\n",
    "- 키, 몸무게, 시력, 청력 등 -> 탐색 과정 : raw data 속성 탐색\n",
    "--> 평균, 표준편차와 같은 특징 정리\n",
    "--> 시각화 --> 인사이트 더 얻기 \n",
    "--> 데이터 더 정리\n",
    "--> Details(상관관계)"
   ]
  },
  {
   "cell_type": "code",
   "execution_count": null,
   "id": "3796e691",
   "metadata": {},
   "outputs": [],
   "source": []
  }
 ],
 "metadata": {
  "kernelspec": {
   "display_name": "Python 3",
   "language": "python",
   "name": "python3"
  },
  "language_info": {
   "codemirror_mode": {
    "name": "ipython",
    "version": 3
   },
   "file_extension": ".py",
   "mimetype": "text/x-python",
   "name": "python",
   "nbconvert_exporter": "python",
   "pygments_lexer": "ipython3",
   "version": "3.8.8"
  }
 },
 "nbformat": 4,
 "nbformat_minor": 5
}
